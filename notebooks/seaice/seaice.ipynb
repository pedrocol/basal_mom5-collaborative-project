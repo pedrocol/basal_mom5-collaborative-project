{
 "cells": [
  {
   "cell_type": "markdown",
   "id": "93fda0ef-77a2-47ac-a743-26c059548ed9",
   "metadata": {},
   "source": [
    "# Sea ice plots\n",
    "\n",
    "Run with 14 CPUs.\n",
    "\n",
    "See https://github.com/pedrocol/basal_mom5-collaborative-project/issues?q=is%3Aissue+sea+ice\n",
    "\n",
    "especially\n",
    "\n",
    "https://github.com/pedrocol/basal_mom5-collaborative-project/issues/64\n",
    "\n",
    "https://github.com/pedrocol/basal_mom5-collaborative-project/issues/33"
   ]
  },
  {
   "cell_type": "code",
   "execution_count": null,
   "id": "77d6ee98-d2af-4763-bf54-f2999a9b0cc7",
   "metadata": {
    "tags": []
   },
   "outputs": [],
   "source": [
    "%matplotlib inline\n",
    "\n",
    "import cosima_cookbook as cc\n",
    "import matplotlib.pyplot as plt\n",
    "import numpy as np\n",
    "import netCDF4 as nc\n",
    "import cartopy.crs as ccrs\n",
    "import xarray as xr\n",
    "import cmocean.cm as cmocean\n",
    "import glob\n",
    "import matplotlib.path as mpath\n",
    "import matplotlib.colors as col\n",
    "from netCDF4 import Dataset\n",
    "#import xgcm\n",
    "from datetime import timedelta\n",
    "import calendar\n",
    "import copy\n",
    "\n",
    "import logging\n",
    "logging.captureWarnings(True)\n",
    "logging.getLogger('py.warnings').setLevel(logging.ERROR)\n",
    "logging.getLogger(\"flox\").setLevel(logging.WARNING)\n",
    "\n",
    "from dask.distributed import Client\n",
    "\n",
    "# figdir = '/g/data/e14/pc5520/figures/basal_melt_param/'"
   ]
  },
  {
   "cell_type": "code",
   "execution_count": null,
   "id": "cf3e9bb3-5baf-42bc-ab19-7a509481592e",
   "metadata": {},
   "outputs": [],
   "source": [
    "import xesmf\n",
    "import os\n",
    "import pandas as pd\n",
    "from datetime import datetime\n",
    "from tqdm import tqdm_notebook"
   ]
  },
  {
   "cell_type": "code",
   "execution_count": null,
   "id": "d77cbc1d-9ef2-40b5-8759-f90c1bf194c8",
   "metadata": {
    "tags": []
   },
   "outputs": [],
   "source": [
    "client = Client()\n",
    "client"
   ]
  },
  {
   "cell_type": "markdown",
   "id": "e4d4c3ff-155e-4f51-8756-70545f76b669",
   "metadata": {},
   "source": [
    "## Set experiments to analyse\n",
    "see https://github.com/pedrocol/basal_mom5-collaborative-project#new-simulations-use-these-ones"
   ]
  },
  {
   "cell_type": "markdown",
   "id": "79bdc62f-d89b-4fb2-a91a-53942ca18221",
   "metadata": {},
   "source": [
    "### Control"
   ]
  },
  {
   "cell_type": "code",
   "execution_count": null,
   "id": "d9a3dee5-d290-4f8c-b883-687656c9ca88",
   "metadata": {},
   "outputs": [],
   "source": [
    "session_name = '/g/data/v45/wf4500/databases/gdata_01deg_jra55v13_ryf9091_DSW.db'\n",
    "control_session = cc.database.create_session(session_name)\n",
    "\n",
    "control = '01deg_jra55v13_ryf9091_DSW'"
   ]
  },
  {
   "cell_type": "markdown",
   "id": "ddcf6f05-fb63-474b-baba-24b0bfdc6d62",
   "metadata": {},
   "source": [
    "### Perturbations\n",
    "\n",
    "GPC029 (Basal) `01deg_jra55v13_ryf9091_DSW_BasalNoGade_NoIcb` : Tbasal equal Tinsitu, calving flux inserted at the surface as runoff\n",
    "\n",
    "GPC023 (Basal_LH) `01deg_jra55v13_ryf9091_DSW_BasalGade_NoIcb` : Tbasal based on Gade line, calving flux inserted at the surface as runoff\n",
    "\n",
    "GPC062 (Basal_LH_Brine) `01deg_jra55v13_ryf9091_DSW_BasalGade_NoIcb_Brine` : Tbasal based on Gade line, calving flux inserted at the surface as runoff, brine param.\n",
    "\n",
    "`session_name = '/g/data/ik11/databases/basal_melt_MOM5.db'`"
   ]
  },
  {
   "cell_type": "code",
   "execution_count": null,
   "id": "51464538-9f7a-4c3c-ae3c-c42924cf4011",
   "metadata": {},
   "outputs": [],
   "source": [
    "session_name = '/g/data/ik11/databases/basal_melt_MOM5.db'\n",
    "basal_melt_session = cc.database.create_session(session_name)\n",
    "\n",
    "perturbations = {\n",
    "                    'Basal': '01deg_jra55v13_ryf9091_DSW_BasalNoGade_NoIcb',  # GPC029\n",
    "                    'Basal_LH': '01deg_jra55v13_ryf9091_DSW_BasalGade_NoIcb',  # GPC023\n",
    "                    # 'Basal_LH_YesIcb': '01deg_jra55v13_ryf9091_DSW_BasalGade_YesIcb',  # GPC026\n",
    "                    'Basal_LH_Brine': '01deg_jra55v13_ryf9091_DSW_BasalGade_NoIcb_Brine',  # GPC062\n",
    "                }"
   ]
  },
  {
   "cell_type": "code",
   "execution_count": null,
   "id": "4dbb585a-9660-4f95-a050-99d651d3c2e5",
   "metadata": {},
   "outputs": [],
   "source": [
    "styles = { # defines line plot order, legend labels (keys) and keyword args (dicts)\n",
    "    'Obs':            {'color':'grey',      'linestyle':'-',  'linewidth':3},\n",
    "    'Control':        {'color':\"#000000\",   'linestyle':'-',  'linewidth':3},\n",
    "    'Basal':          {'color':\"#DDAA33\",   'linestyle':'--', 'linewidth':2},\n",
    "    'Basal_LH':      {'color':\"#BB5566\",   'linestyle':'--', 'linewidth':2},\n",
    "    'Basal_LH_Brine': {'color':\"steelblue\", 'linestyle':'-',  'linewidth':2},\n",
    "}"
   ]
  },
  {
   "cell_type": "code",
   "execution_count": null,
   "id": "31fbc24e-2414-46a8-ac14-5876166f26cf",
   "metadata": {},
   "outputs": [],
   "source": [
    "runs = { 'Control': control, **perturbations }\n",
    "sessions = { 'Control': control_session, **{k:basal_melt_session for k in perturbations} }"
   ]
  },
  {
   "cell_type": "code",
   "execution_count": null,
   "id": "ac1b5388-9e61-4ea5-b2ae-fbcb0a2ae20c",
   "metadata": {},
   "outputs": [],
   "source": [
    "runs"
   ]
  },
  {
   "cell_type": "code",
   "execution_count": null,
   "id": "0c0a1403-a774-4adb-8542-d747440252ec",
   "metadata": {},
   "outputs": [],
   "source": [
    "cc.querying.get_experiments(basal_melt_session)"
   ]
  },
  {
   "cell_type": "code",
   "execution_count": null,
   "id": "ab6fb014-4d4a-4439-8c30-3fdb25f039db",
   "metadata": {
    "tags": []
   },
   "outputs": [],
   "source": [
    "lat_slice = slice(-90,-59)\n",
    "# lon_slice = slice(-280,80)\n",
    "\n",
    "fontsize=15"
   ]
  },
  {
   "cell_type": "code",
   "execution_count": null,
   "id": "4014937b-a666-4eff-915b-e3a8ea4cb845",
   "metadata": {},
   "outputs": [],
   "source": [
    "# Month labels\n",
    "monthnames = ['Jan', 'Feb', 'Mar', 'Apr', 'May', 'Jun', 'Jul', 'Aug', 'Sep', 'Oct', 'Nov', 'Dec']"
   ]
  },
  {
   "cell_type": "code",
   "execution_count": null,
   "id": "27320d3c-5bae-4b42-a508-bc050f735d10",
   "metadata": {},
   "outputs": [],
   "source": [
    "# print the time range for each experiment - NB: includes CICE date offset, fixed in fixcoords below\n",
    "for k, expt in runs.items():\n",
    "    print(k, expt)\n",
    "    t1 = cc.querying.getvar(expt, 'hi_m', sessions[k], frequency='1 monthly', n=1).time\n",
    "    tm1 = cc.querying.getvar(expt, 'hi_m', sessions[k], frequency='1 monthly', n=-1).time\n",
    "    print(t1[0].data, ' - ', tm1[-1].data)"
   ]
  },
  {
   "cell_type": "code",
   "execution_count": null,
   "id": "d2523b77-cc77-4543-bba8-3d887b2cec5c",
   "metadata": {},
   "outputs": [],
   "source": [
    "# start_time = '1900-01-01'\n",
    "# start_time = '1905-01-01'\n",
    "start_time = '1907-01-01'\n",
    "end_time = '1910-01-01'\n",
    "time_slice = slice(start_time, end_time)\n",
    "yearrange = start_time.split('-')[0]+'-'+str(int(end_time.split('-')[0])-1)\n",
    "yearrange"
   ]
  },
  {
   "cell_type": "code",
   "execution_count": null,
   "id": "38c02bfb-095c-46be-9238-0c2f6f5f5dba",
   "metadata": {
    "tags": []
   },
   "outputs": [],
   "source": [
    "# topography data for plotting:\n",
    "ht = cc.querying.getvar(control, 'ht', control_session, n=1).sel(yt_ocean=lat_slice)\n",
    "land_mask = np.squeeze(ht.values)*0\n",
    "land_mask[np.isnan(land_mask)] = 1\n",
    "land_mask = np.where(land_mask==1, land_mask,np.nan)\n",
    "land_mask_masked = np.ma.masked_where((land_mask==0), land_mask)\n",
    "# make land go all the way to -90S:\n",
    "land_mask_lat = ht.yt_ocean.values\n",
    "land_mask_lat[0] = -90"
   ]
  },
  {
   "cell_type": "code",
   "execution_count": null,
   "id": "8b7b93d5-5ef5-4f7f-a86f-506984ad2b05",
   "metadata": {},
   "outputs": [],
   "source": [
    "# Get grid info\n",
    "area_t = cc.querying.getvar(control, 'area_t', control_session, n=1)"
   ]
  },
  {
   "cell_type": "code",
   "execution_count": null,
   "id": "555b25e3-91c6-4a5d-b026-f81b60dde6b8",
   "metadata": {
    "tags": []
   },
   "outputs": [],
   "source": [
    "def fixcoords(da, grid_da=area_t):\n",
    "    da.coords['ni'] = grid_da['xt_ocean'].values\n",
    "    da.coords['nj'] = grid_da['yt_ocean'].values\n",
    "    da = da.rename(({'ni':'xt_ocean', 'nj':'yt_ocean'}))\n",
    "    da['time'] = da.time.to_pandas() - timedelta(hours = 12) # subtract 12 hr to make sure it is in the correct month\n",
    "    return da"
   ]
  },
  {
   "cell_type": "code",
   "execution_count": null,
   "id": "36ccc7c1-9e39-4e95-8829-17b82864697a",
   "metadata": {},
   "outputs": [],
   "source": [
    "%%time\n",
    "# Import hi\n",
    "hi_all = dict()\n",
    "for k, expt in runs.items():\n",
    "    print(k, expt)\n",
    "    hi_all[k] = fixcoords(cc.querying.getvar(expt, 'hi_m', sessions[k], frequency='1 monthly',\n",
    "                                             compat='override',\n",
    "                                             data_vars='minimal',\n",
    "                                             coords='minimal'))"
   ]
  },
  {
   "cell_type": "code",
   "execution_count": null,
   "id": "706c2a30-e8c0-45e8-834b-7f6cddd6e85f",
   "metadata": {},
   "outputs": [],
   "source": [
    "%%time\n",
    "# Import aice\n",
    "aice_all = dict()\n",
    "for k, expt in runs.items():\n",
    "    print(k, expt)\n",
    "    aice_all[k] = fixcoords(cc.querying.getvar(expt, 'aice_m', sessions[k], frequency='1 monthly',\n",
    "                                             compat='override',\n",
    "                                             data_vars='minimal',\n",
    "                                             coords='minimal'))"
   ]
  },
  {
   "cell_type": "raw",
   "id": "cae1efd0-cc58-4f6e-8d43-e95b7f72b317",
   "metadata": {},
   "source": [
    "%%time\n",
    "# Import congel - NOT AVAILABLE FOR 01deg_jra55v13_ryf9091_DSW\n",
    "congel_all = dict()\n",
    "for k, expt in runs.items():\n",
    "    print(k, expt)\n",
    "    congel_all[k] = fixcoords(cc.querying.getvar(expt, 'congel', sessions[k], frequency='1 monthly',\n",
    "                                             compat='override',\n",
    "                                             data_vars='minimal',\n",
    "                                             coords='minimal'))"
   ]
  },
  {
   "cell_type": "raw",
   "id": "d1aa0ac4-126e-43f8-a90a-8907fdd828c7",
   "metadata": {},
   "source": [
    "%%time\n",
    "# Import frazil - NOT AVAILABLE FOR 01deg_jra55v13_ryf9091_DSW\n",
    "frazil_all = dict()\n",
    "for k, expt in runs.items():\n",
    "    print(k, expt)\n",
    "    frazil_all[k] = fixcoords(cc.querying.getvar(expt, 'frazil', sessions[k], frequency='1 monthly',\n",
    "                                             compat='override',\n",
    "                                             data_vars='minimal',\n",
    "                                             coords='minimal'))"
   ]
  },
  {
   "cell_type": "code",
   "execution_count": null,
   "id": "a1035d54-232d-4056-b465-1841c8fa30f0",
   "metadata": {
    "scrolled": true
   },
   "outputs": [],
   "source": [
    "%%time\n",
    "# Import sfc_salt_flux_restore\n",
    "sfc_salt_flux_restore_all = dict()\n",
    "for k, expt in runs.items():\n",
    "    print(k, expt)\n",
    "    sfc_salt_flux_restore_all[k] = cc.querying.getvar(expt, 'sfc_salt_flux_restore', sessions[k], frequency='1 monthly',\n",
    "                                             compat='override',\n",
    "                                             data_vars='minimal',\n",
    "                                             coords='minimal')"
   ]
  },
  {
   "cell_type": "code",
   "execution_count": null,
   "id": "54e7e41e-9895-472c-898e-3c6850243937",
   "metadata": {},
   "outputs": [],
   "source": [
    "# get spatiotemporal subsets\n",
    "hi = { k: d.sel(time=time_slice).sel(yt_ocean=lat_slice) for k, d in hi_all.items() }\n",
    "aice = { k: d.sel(time=time_slice).sel(yt_ocean=lat_slice) for k, d in aice_all.items() }"
   ]
  },
  {
   "cell_type": "code",
   "execution_count": null,
   "id": "8c4b7b69-148f-4e62-a998-bc64f43f92fe",
   "metadata": {},
   "outputs": [],
   "source": [
    "sfc_salt_flux_restore = { k: d.sel(time=time_slice).sel(yt_ocean=lat_slice) for k, d in sfc_salt_flux_restore_all.items() }"
   ]
  },
  {
   "cell_type": "code",
   "execution_count": null,
   "id": "77b34a8d-d66e-4087-89b7-3fc9230cdd86",
   "metadata": {},
   "outputs": [],
   "source": [
    "# Calculate sea ice area over all times, convert to km^2\n",
    "areai_all = { k: d*area_t*1e-6 for k, d in aice_all.items() }"
   ]
  },
  {
   "cell_type": "code",
   "execution_count": null,
   "id": "ce585927-a6db-4b4b-bc42-3f715f69a151",
   "metadata": {},
   "outputs": [],
   "source": [
    "# Calculate sea ice area, convert to km^2\n",
    "areai = { k: d*area_t*1e-6 for k, d in aice.items() }"
   ]
  },
  {
   "cell_type": "code",
   "execution_count": null,
   "id": "b38f02f5-6bc6-4ef0-acb8-fcc1586f73f8",
   "metadata": {},
   "outputs": [],
   "source": [
    "# Calculate sea ice volume over all times, convert to km^3\n",
    "vi_all = { k: d*area_t*1e-9 for k, d in hi_all.items() }"
   ]
  },
  {
   "cell_type": "code",
   "execution_count": null,
   "id": "70c8e762-d405-4303-b2ae-ef5284b5d7db",
   "metadata": {},
   "outputs": [],
   "source": [
    "# Calculate sea ice volume, convert to km^3\n",
    "vi = { k: d*area_t*1e-9 for k, d in hi.items() }"
   ]
  },
  {
   "cell_type": "code",
   "execution_count": null,
   "id": "4451ced2-a682-47ce-a5d5-e8bab4cea204",
   "metadata": {},
   "outputs": [],
   "source": [
    "%%time\n",
    "# time averages\n",
    "areai_avet = { k: d.mean('time').load() for k, d in areai.items() }\n",
    "hi_avet = { k: d.mean('time').load() for k, d in hi.items() }\n",
    "aice_avet = { k: d.mean('time').load() for k, d in aice.items() }\n",
    "vi_avet = { k: d.mean('time').load() for k, d in vi.items() }"
   ]
  },
  {
   "cell_type": "code",
   "execution_count": null,
   "id": "24453588-ecab-41e9-a29b-7da67da5901a",
   "metadata": {},
   "outputs": [],
   "source": [
    "sfc_salt_flux_restore_avet = { k: d.mean('time').load() for k, d in sfc_salt_flux_restore.items() }"
   ]
  },
  {
   "cell_type": "code",
   "execution_count": null,
   "id": "c19eac52-be20-40da-baec-43b05ef1809d",
   "metadata": {},
   "outputs": [],
   "source": [
    "%%time\n",
    "# monthly climatologies\n",
    "areai_mm = { k: d.groupby('time.month').mean('time').load() for k, d in areai.items() }\n",
    "hi_mm = { k: d.groupby('time.month').mean('time').load() for k, d in hi.items() }\n",
    "aice_mm = { k: d.groupby('time.month').mean('time').load() for k, d in aice.items() }\n",
    "aice_all_timeslice_mm = { k: d.sel(time=time_slice).groupby('time.month').mean('time').load() for k, d in aice_all.items() }\n",
    "vi_mm = { k: d.groupby('time.month').mean('time').load() for k, d in vi.items() }"
   ]
  },
  {
   "cell_type": "code",
   "execution_count": null,
   "id": "878a6283-1339-4817-91a6-733b0ce0bc0a",
   "metadata": {},
   "outputs": [],
   "source": [
    "sfc_salt_flux_restore_mm = { k: d.groupby('time.month').mean('time').load() for k, d in sfc_salt_flux_restore.items() }"
   ]
  },
  {
   "cell_type": "markdown",
   "id": "03cd71a2-970c-49d6-b8fd-f3f503720717",
   "metadata": {
    "tags": []
   },
   "source": [
    "## Time series _- not used in paper_"
   ]
  },
  {
   "cell_type": "code",
   "execution_count": null,
   "id": "e03f24c5-a375-4d37-b584-2f30b1d4a357",
   "metadata": {
    "tags": []
   },
   "outputs": [],
   "source": [
    "# shelf masking:\n",
    "contour_file = np.load('/g/data/ik11/grids/Antarctic_slope_contour_1000m.npz')\n",
    "shelf_mask = contour_file['contour_masked_above']\n",
    "yt_ocean = contour_file['yt_ocean']\n",
    "xt_ocean = contour_file['xt_ocean']\n",
    "# Mask values that are non-zero\n",
    "shelf_mask[np.where(shelf_mask!=0)] = np.nan\n",
    "shelf_mask = shelf_mask+1\n",
    "shelf_mask = xr.DataArray(shelf_mask, coords = [('yt_ocean', yt_ocean), ('xt_ocean', xt_ocean)])"
   ]
  },
  {
   "cell_type": "markdown",
   "id": "a299b0dd-7075-4ad5-a7a0-838ec9fd82b1",
   "metadata": {},
   "source": [
    "### Sea ice volume timeseries from entire run"
   ]
  },
  {
   "cell_type": "code",
   "execution_count": null,
   "id": "2b168d99-1977-458d-8f29-8ecae9207f5a",
   "metadata": {},
   "outputs": [],
   "source": [
    "%%time\n",
    "vi_cpolar = { k: d.sel(yt_ocean=lat_slice).sum('xt_ocean').sum('yt_ocean').load() for k, d in vi_all.items() }"
   ]
  },
  {
   "cell_type": "code",
   "execution_count": null,
   "id": "5154cc3b-f495-4f8a-af5a-9d7a32b724d5",
   "metadata": {
    "scrolled": true
   },
   "outputs": [],
   "source": [
    "%%time\n",
    "# Multiply the variable with the mask, we need to account for the shape of the mask. \n",
    "# The mask uses a northern cutoff of 59S.\n",
    "vi_shelf = { k: (d.sel(yt_ocean=lat_slice)*shelf_mask.sel(yt_ocean=lat_slice)).load() for k, d in vi_all.items() }"
   ]
  },
  {
   "cell_type": "code",
   "execution_count": null,
   "id": "f96027c8-5d30-4eb3-a4d3-26b3236593b5",
   "metadata": {},
   "outputs": [],
   "source": [
    "vi_shelf_cpolar = { k: d.sum('xt_ocean').sum('yt_ocean') for k, d in vi_shelf.items() }"
   ]
  },
  {
   "cell_type": "code",
   "execution_count": null,
   "id": "c90fd3c8-8374-4646-b7b0-77f1581b8720",
   "metadata": {},
   "outputs": [],
   "source": [
    "vi_shelf_cpolar_a = { k: d.mean('time') for k, d in vi_shelf_cpolar.items() }"
   ]
  },
  {
   "cell_type": "code",
   "execution_count": null,
   "id": "9d9d0c2d-7359-4829-9bff-9d3c187edf12",
   "metadata": {},
   "outputs": [],
   "source": [
    "# Panel labels\n",
    "panel_name = ['A', 'B', 'C', 'D', 'E', 'F']\n",
    "# Font size\n",
    "plt.rcParams['font.size'] = 14\n",
    "# Axes\n",
    "plt.rcParams['axes.facecolor']  = 'white'\n",
    "plt.rcParams['xtick.labelsize'] = 14\n",
    "plt.rcParams['ytick.labelsize'] = 14\n",
    "# Saving parameters\n",
    "plt.rcParams['savefig.dpi']  = 150\n",
    "plt.rcParams['savefig.bbox'] = 'tight'"
   ]
  },
  {
   "cell_type": "code",
   "execution_count": null,
   "id": "25cd082c-bf04-4554-98a8-3d2cfb619be8",
   "metadata": {},
   "outputs": [],
   "source": [
    "fig = plt.figure(figsize=(15,15))\n",
    "\n",
    "plt.subplot(311)\n",
    "plt.title('Monthly Antarctic sea ice volume', loc='left')\n",
    "for k, d in vi_cpolar.items():\n",
    "    plt.plot(d, label=k, **styles[k])\n",
    "plt.legend()\n",
    "plt.xlabel('Months from run start')\n",
    "plt.ylabel('Sea ice volume (km$^3$)')"
   ]
  },
  {
   "cell_type": "code",
   "execution_count": null,
   "id": "10f61fde-f942-45b2-8bef-91c3c49b09b6",
   "metadata": {},
   "outputs": [],
   "source": [
    "fig = plt.figure(figsize=(15,15))\n",
    "\n",
    "plt.subplot(311)\n",
    "plt.title('Monthly Antarctic shelf-integrated sea ice volume', loc='left')\n",
    "for k, d in vi_shelf_cpolar.items():\n",
    "    plt.plot(d, label=k, **styles[k])\n",
    "plt.legend()\n",
    "plt.xlabel('Months from run start')\n",
    "plt.ylabel('Sea ice volume (km$^3$)')"
   ]
  },
  {
   "cell_type": "markdown",
   "id": "da0149b5-2c68-4331-b4a5-3b066ad2d603",
   "metadata": {},
   "source": [
    "#### Min, max volume over final years (time_slice)"
   ]
  },
  {
   "cell_type": "code",
   "execution_count": null,
   "id": "d0fb9e00-9f8f-4a61-89f8-c5d947caa479",
   "metadata": {},
   "outputs": [],
   "source": [
    "# min volume over final years (time_slice)\n",
    "{k: d.sel(time=time_slice).min().data for k,d in vi_cpolar.items()}"
   ]
  },
  {
   "cell_type": "code",
   "execution_count": null,
   "id": "5c1d2530-63bb-4efe-b78e-01917ce9b739",
   "metadata": {},
   "outputs": [],
   "source": [
    "# max volume over final years (time_slice)\n",
    "{k: d.sel(time=time_slice).max().data for k,d in vi_cpolar.items()}"
   ]
  },
  {
   "cell_type": "code",
   "execution_count": null,
   "id": "69b2ea94-246c-4bde-950f-518394e43935",
   "metadata": {},
   "outputs": [],
   "source": [
    "# min volume over final years (time_slice) on shelf\n",
    "{k: d.sel(time=time_slice).min().data for k,d in vi_shelf_cpolar.items()}"
   ]
  },
  {
   "cell_type": "code",
   "execution_count": null,
   "id": "efe15848-96ba-4129-a64f-c08f43d8d015",
   "metadata": {},
   "outputs": [],
   "source": [
    "# max volume over final years (time_slice) on shelf\n",
    "{k: d.sel(time=time_slice).max().data for k,d in vi_shelf_cpolar.items()}"
   ]
  },
  {
   "cell_type": "markdown",
   "id": "d0ec1231-12ab-4866-bfef-8e3e6864d543",
   "metadata": {},
   "source": [
    "### Sea ice area timeseries from entire run"
   ]
  },
  {
   "cell_type": "code",
   "execution_count": null,
   "id": "6606659f-b034-4f19-98c4-2d4123ce4766",
   "metadata": {},
   "outputs": [],
   "source": [
    "areai_cpolar = { k: d.sel(yt_ocean=lat_slice).sum('xt_ocean').sum('yt_ocean') for k, d in areai_all.items() }"
   ]
  },
  {
   "cell_type": "code",
   "execution_count": null,
   "id": "f314649b-248b-4cad-9e9a-344c3daf4ea0",
   "metadata": {
    "scrolled": true
   },
   "outputs": [],
   "source": [
    "%%time\n",
    "# Multiply the variable with the mask, we need to account for the shape of the mask. \n",
    "# The mask uses a northern cutoff of 59S.\n",
    "areai_shelf = { k: (d.sel(yt_ocean=lat_slice)*shelf_mask.sel(yt_ocean=lat_slice)).load() for k, d in areai_all.items() }"
   ]
  },
  {
   "cell_type": "code",
   "execution_count": null,
   "id": "bbb54ce4-bff1-4263-99b1-cfaba5c834fc",
   "metadata": {},
   "outputs": [],
   "source": [
    "areai_shelf_cpolar = { k: d.sum('xt_ocean').sum('yt_ocean') for k, d in areai_shelf.items() }"
   ]
  },
  {
   "cell_type": "code",
   "execution_count": null,
   "id": "290e837d-a645-47f3-8e71-a8b31fd7c0be",
   "metadata": {},
   "outputs": [],
   "source": [
    "areai_shelf_cpolar_a = { k: d.mean('time') for k, d in areai_shelf_cpolar.items() }"
   ]
  },
  {
   "cell_type": "code",
   "execution_count": null,
   "id": "119f0110-6d5e-467d-8440-837c3a1dc517",
   "metadata": {},
   "outputs": [],
   "source": [
    "# Panel labels\n",
    "panel_name = ['A', 'B', 'C', 'D', 'E', 'F']\n",
    "# Font size\n",
    "plt.rcParams['font.size'] = 14\n",
    "# Axes\n",
    "plt.rcParams['axes.facecolor']  = 'white'\n",
    "plt.rcParams['xtick.labelsize'] = 14\n",
    "plt.rcParams['ytick.labelsize'] = 14\n",
    "# Saving parameters\n",
    "plt.rcParams['savefig.dpi']  = 150\n",
    "plt.rcParams['savefig.bbox'] = 'tight'"
   ]
  },
  {
   "cell_type": "code",
   "execution_count": null,
   "id": "97997cef-2237-4b1d-878d-570b6a53d992",
   "metadata": {},
   "outputs": [],
   "source": [
    "fig = plt.figure(figsize=(15,15))\n",
    "\n",
    "plt.subplot(311)\n",
    "plt.title('Monthly Antarctic sea ice area', loc='left')\n",
    "for k, d in areai_cpolar.items():\n",
    "    plt.plot(d, label=k, **styles[k])\n",
    "plt.legend()\n",
    "plt.xlabel('Months from run start')\n",
    "plt.ylabel('Sea ice area (km$^2$)')"
   ]
  },
  {
   "cell_type": "code",
   "execution_count": null,
   "id": "dd9102c3-962d-4fb4-a77d-57d2be83f4ad",
   "metadata": {},
   "outputs": [],
   "source": [
    "fig = plt.figure(figsize=(15,15))\n",
    "\n",
    "plt.subplot(311)\n",
    "plt.title('Monthly Antarctic shelf-integrated sea ice area', loc='left')\n",
    "for k, d in areai_shelf_cpolar.items():\n",
    "    plt.plot(d, label=k, **styles[k])\n",
    "plt.legend()\n",
    "plt.xlabel('Months from run start')\n",
    "plt.ylabel('Sea ice area (km$^2$)')"
   ]
  },
  {
   "cell_type": "markdown",
   "id": "8ea2891e-2120-466e-a647-bca394c5f0c4",
   "metadata": {},
   "source": [
    "### Sea ice extent compared to obs\n",
    "\n",
    "based on https://github.com/COSIMA/ACCESS-OM2-1-025-010deg-report/blob/master/figures/ice_timeseries/ice_timeseries.ipynb"
   ]
  },
  {
   "cell_type": "code",
   "execution_count": null,
   "id": "39fdbf36-d499-4fed-ab82-6d460526bde2",
   "metadata": {},
   "outputs": [],
   "source": [
    "def loadObsExt(fnlist):\n",
    "    \"\"\"\n",
    "    Return xarray DataSet of sea ice extent and area from NOAA/G02135 csv file list\n",
    "    \"\"\"\n",
    "    df = pd.concat([pd.read_csv(f) for f in fnlist])  # read all csv files into a pandas DataFrame\n",
    "    df.columns = df.columns.str.strip()  # remove leading/trailing whitespace from headers\n",
    "    df['time'] = df.apply(lambda r: datetime(r['year'], r['mo'], 1), axis=1)  # make a date column (set day=1 to match cice output)\n",
    "    print(df)\n",
    "    df = df.drop(columns=['year', 'mo', 'data-type', 'region'])  # remove redundant columns\n",
    "    num = df._get_numeric_data()\n",
    "    num[num < 0] = np.nan  # replace bad data with NaN\n",
    "    df = df.sort_values('time')\n",
    "    ds = df.to_xarray()  # convert to xarray DataSet\n",
    "    ds = ds.assign_coords(index=ds['time']).drop('time')  # set index values to time and remove time\n",
    "    ds['extent'] = ds.extent.rename({'index': 'time'})  # rename extent coord to time\n",
    "    ds['area'] = ds.area.rename({'index': 'time'})  # rename area coord to time\n",
    "    ds = ds.drop('index')  # remove index\n",
    "    ds = ds*1e12  # convert from M km^2 to m^2\n",
    "    return ds"
   ]
  },
  {
   "cell_type": "code",
   "execution_count": null,
   "id": "69871873-7673-4717-bbe6-e15247a04bee",
   "metadata": {},
   "outputs": [],
   "source": [
    "# Specify paths to observational data\n",
    "\n",
    "ObsDirExt = '/g/data3/hh5/tmp/cosima/observations/NOAA/G02135'  # from http://nsidc.org/data/g02135\n",
    "obsExtNHFileList = glob.glob(os.path.join(ObsDirExt, 'north/monthly/data/*.csv'))\n",
    "obsExtSHFileList = glob.glob(os.path.join(ObsDirExt, 'south/monthly/data/*.csv'))\n",
    "obsExtNHFileList.sort()\n",
    "obsExtSHFileList.sort()"
   ]
  },
  {
   "cell_type": "code",
   "execution_count": null,
   "id": "0c615844-6079-4a4d-95f6-6b5ca14b0a2d",
   "metadata": {},
   "outputs": [],
   "source": [
    "# time range to extract from obs\n",
    "obstimerange = slice(pd.to_datetime('1990-05-01', format='%Y-%m-%d'),\n",
    "                     pd.to_datetime('1991-04-30', format='%Y-%m-%d'))  # to match RYF: 1 May 1990 - 30 April 1991"
   ]
  },
  {
   "cell_type": "code",
   "execution_count": null,
   "id": "869262c2-22b1-403e-87d3-1b4ed39da292",
   "metadata": {
    "tags": []
   },
   "outputs": [],
   "source": [
    "NH_obs = loadObsExt(obsExtNHFileList)\n",
    "NH_obs_mm = NH_obs.sel(time=obstimerange).groupby('time.month').mean('time', skipna=True)\n",
    "SH_obs = loadObsExt(obsExtSHFileList)\n",
    "SH_obs_mm = SH_obs.sel(time=obstimerange).groupby('time.month').mean('time', skipna=True)"
   ]
  },
  {
   "cell_type": "code",
   "execution_count": null,
   "id": "ac7e171b-5742-476b-bf31-4cf6911815cc",
   "metadata": {},
   "outputs": [],
   "source": [
    "extent = { k: xr.where(d > 0.15, area_t.sel(yt_ocean=lat_slice), 0.0).sum('xt_ocean').sum('yt_ocean') for k, d in aice.items() }"
   ]
  },
  {
   "cell_type": "code",
   "execution_count": null,
   "id": "b49da7a9-88e3-4757-89e6-e1344138b92c",
   "metadata": {},
   "outputs": [],
   "source": [
    "%%time\n",
    "extent_mm = { k: d.groupby('time.month').mean('time').load() for k, d in extent.items() }"
   ]
  },
  {
   "cell_type": "code",
   "execution_count": null,
   "id": "04dc9792-dcec-4405-8964-07d8398ed7a0",
   "metadata": {},
   "outputs": [],
   "source": [
    "fig  = plt.figure(1, figsize = (25,5))\n",
    "ax = fig.add_axes([0.0, 0.0, 0.3, 1])\n",
    "\n",
    "ax.plot(SH_obs_mm.extent/1e12, label='Obs (NOAA G02135, 1 May 1990 - 30 April 1991)', **styles['Obs'])\n",
    "for k, d in extent_mm.items():\n",
    "    ax.plot(d/1e12, label=f'{k} (monthly {yearrange} climatology)', **styles[k])\n",
    "#ax.plot(obs2,lw=2,color='r',label=\"Obs - EUMETSAT\")\n",
    "plt.ylabel(\"Extent (million km2)\")\n",
    "#plt.xlabel(\"Months\")\n",
    "ax.set_xticks(range(12), monthnames)\n",
    "plt.legend()\n",
    "plt.ylim(ymin=0,ymax=20)\n",
    "plt.title(\"Antarctic sea ice extent\")"
   ]
  },
  {
   "cell_type": "markdown",
   "id": "d356e741-a980-44c6-b38e-f5e09dde51cd",
   "metadata": {},
   "source": [
    "## Plot maps"
   ]
  },
  {
   "cell_type": "code",
   "execution_count": null,
   "id": "b96bd308-f87e-40ee-9d0c-281a79c17359",
   "metadata": {
    "tags": []
   },
   "outputs": [],
   "source": [
    "def plotmap(ds, title, ht=ht, cmap=cmocean.balance_r):\n",
    "    theta = np.linspace(0, 2*np.pi, 100)\n",
    "    center, radius = [0.5, 0.5], 0.5\n",
    "    verts = np.vstack([np.sin(theta), np.cos(theta)]).T\n",
    "    circle = mpath.Path(verts * radius + center)\n",
    "    ax.set_boundary(circle, transform=ax.transAxes)\n",
    "    cf = ax.pcolormesh(ds.xt_ocean, ds.yt_ocean, ds, norm=norm,\n",
    "                       cmap=cmap, transform=ccrs.PlateCarree())\n",
    "    ax.contour(ht.xt_ocean, ht.yt_ocean, ht,\n",
    "               levels=[1000, 3000], colors='k', linewidths=0.5,\n",
    "               transform=ccrs.PlateCarree())\n",
    "    plt.title(title,fontsize=fontsize)\n",
    "    ax.contourf(ht.xt_ocean, land_mask_lat, land_mask_masked, colors='darkgrey',\n",
    "                 zorder=2, transform = ccrs.PlateCarree())\n",
    "    ax.set_extent([-180, 180, -90, -59.5], ccrs.PlateCarree())\n",
    "    return cf"
   ]
  },
  {
   "cell_type": "code",
   "execution_count": null,
   "id": "7cfbc386-ac99-4836-a640-959a69da4419",
   "metadata": {},
   "outputs": [],
   "source": [
    "ax3 = { k: d for k,d in zip(perturbations, [[0.0, 0.0, 0.3, 1], [0.31, 0.0, 0.3, 1], [0.62, 0.0, 0.3, 1]])}"
   ]
  },
  {
   "cell_type": "markdown",
   "id": "a2ea5652-e2fa-4f88-a28e-35ed5813bb93",
   "metadata": {
    "jp-MarkdownHeadingCollapsed": true
   },
   "source": [
    "### Time-mean _- not used in paper_"
   ]
  },
  {
   "cell_type": "code",
   "execution_count": null,
   "id": "953604dd-c871-4067-b69f-dba0f608a755",
   "metadata": {
    "tags": []
   },
   "outputs": [],
   "source": [
    "# Time-mean thickness differences from control\n",
    "\n",
    "scale_max = 1\n",
    "\n",
    "fig  = plt.figure(1, figsize = (18,7))\n",
    "norm = col.Normalize(vmin=-scale_max, vmax=scale_max)\n",
    "\n",
    "for k in perturbations:\n",
    "    ax = fig.add_axes(ax3[k], projection=ccrs.SouthPolarStereo())\n",
    "    cf = plotmap(hi_avet[k] - hi_avet['Control'], f'{k} - Control {yearrange}')\n",
    "\n",
    "# colorbar:\n",
    "cbaxes = fig.add_axes([0.93, 0.25, 0.012, 0.5])\n",
    "cbar = plt.colorbar(cf, cax = cbaxes, orientation = 'vertical', extend = 'both')\n",
    "cbar.set_label(r'Sea ice thickness difference (m)', fontsize=fontsize, labelpad=2)\n",
    "cbar.ax.tick_params(labelsize=fontsize)"
   ]
  },
  {
   "cell_type": "code",
   "execution_count": null,
   "id": "1b8ccb2c-da9a-43ba-9655-c6b8f8756e34",
   "metadata": {
    "tags": []
   },
   "outputs": [],
   "source": [
    "# Time-mean SIC differences from control\n",
    "\n",
    "scale_max = 0.2\n",
    "\n",
    "fig  = plt.figure(1, figsize = (18,7))\n",
    "norm = col.Normalize(vmin=-scale_max, vmax=scale_max)\n",
    "\n",
    "for k in perturbations:\n",
    "    ax = fig.add_axes(ax3[k], projection=ccrs.SouthPolarStereo())\n",
    "    cf = plotmap(aice_avet[k] - aice_avet['Control'], f'{k} - Control {yearrange}')\n",
    "\n",
    "# colorbar:\n",
    "cbaxes = fig.add_axes([0.93, 0.25, 0.012, 0.5])\n",
    "cbar = plt.colorbar(cf, cax = cbaxes, orientation = 'vertical', extend = 'both')\n",
    "cbar.set_label(r'Sea ice concentration difference', fontsize=fontsize, labelpad=2)\n",
    "cbar.ax.tick_params(labelsize=fontsize)"
   ]
  },
  {
   "cell_type": "markdown",
   "id": "cfae4946-24c3-4e4d-b93b-049f1dfe19e4",
   "metadata": {
    "jp-MarkdownHeadingCollapsed": true
   },
   "source": [
    "### Monthly climatological maps **- the only figs used in paper**\n"
   ]
  },
  {
   "cell_type": "code",
   "execution_count": null,
   "id": "fe37ada5-ac7a-4c70-9de0-a74256ad7317",
   "metadata": {},
   "outputs": [],
   "source": [
    "months = [2, 9] # Feb and Sep\n",
    "# months = range(1, 13)"
   ]
  },
  {
   "cell_type": "code",
   "execution_count": null,
   "id": "d26f47e0-b0ae-4300-b63b-3ab5ec094a00",
   "metadata": {},
   "outputs": [],
   "source": [
    "panelheight = 1/len(months)\n",
    "panelheight = 0.35\n",
    "\n",
    "# ax3mo = dict()\n",
    "# ax3copy = copy.deepcopy(ax3)\n",
    "# for i,m in enumerate(months):\n",
    "#     ax3mo[m] = dict()\n",
    "#     for k, ax in ax3copy:\n",
    "#         ax[1]\n",
    "        \n",
    "        \n",
    "    \n",
    "#     print(i,m)\n",
    "    \n",
    "# ax3mo = { m: copy.deepcopy(ax3) for m in months }\n",
    "\n",
    "# for m in ax3mo.values():\n",
    "#     print(m)"
   ]
  },
  {
   "cell_type": "code",
   "execution_count": null,
   "id": "ab2ca9fb-48ac-46cd-932c-1130fc480ab7",
   "metadata": {
    "tags": []
   },
   "outputs": [],
   "source": [
    "# Monthly climatological thickness differences from control **the only figs used in paper**\n",
    "\n",
    "scale_max = 1\n",
    "panel_idx = 0\n",
    "fig  = plt.figure(figsize = (18,11))\n",
    "\n",
    "for i, m in enumerate(months):\n",
    "    # fig  = plt.figure(figsize = (18,7))\n",
    "    norm = col.Normalize(vmin=-scale_max, vmax=scale_max)\n",
    "    \n",
    "    for k in perturbations:\n",
    "        axcopy = copy.deepcopy(ax3[k])\n",
    "        axcopy[1] = 1 - (i+1)*panelheight\n",
    "        axcopy[3] = 1 - i*panelheight\n",
    "        # print(axcopy)\n",
    "        ax = fig.add_axes(axcopy, projection=ccrs.SouthPolarStereo())\n",
    "        cf = plotmap(hi_mm[k].sel(month=m) - hi_mm['Control'].sel(month=m), f'({chr(ord(\"a\")+panel_idx)}) {k} - Control, {monthnames[m-1]} {yearrange}')\n",
    "        panel_idx+=1\n",
    "    \n",
    "# colorbar:\n",
    "cbaxes = fig.add_axes([0.93, 0.45, 0.012, 0.95])\n",
    "cbar = plt.colorbar(cf, cax = cbaxes, orientation = 'vertical',extend = 'both')\n",
    "cbar.set_label(r'Sea ice thickness difference from Control (m)', fontsize=fontsize, labelpad=2)\n",
    "cbar.ax.tick_params(labelsize=fontsize)\n",
    "plt.savefig(f'SIT.png', dpi=200, bbox_inches='tight')"
   ]
  },
  {
   "cell_type": "code",
   "execution_count": null,
   "id": "83095fbb-53d9-4de4-a036-0b58dc7d2fd4",
   "metadata": {
    "tags": []
   },
   "outputs": [],
   "source": [
    "# Monthly climatological SIC differences from control - not used in paper\n",
    "\n",
    "scale_max = 0.2\n",
    "\n",
    "for m in months:    \n",
    "    fig  = plt.figure(figsize = (18,7))\n",
    "    norm = col.Normalize(vmin=-scale_max, vmax=scale_max)\n",
    "\n",
    "    for k in perturbations:\n",
    "        ax = fig.add_axes(ax3[k], projection=ccrs.SouthPolarStereo())\n",
    "        cf = plotmap(aice_mm[k].sel(month=m) - aice_mm['Control'].sel(month=m), f'{k} - Control {yearrange}')\n",
    "    \n",
    "    # colorbar:\n",
    "    cbaxes = fig.add_axes([0.93, 0.25, 0.012, 0.5])\n",
    "    cbar = plt.colorbar(cf, cax = cbaxes, orientation = 'vertical',extend = 'both')\n",
    "    cbar.set_label(r'Sea ice concentration difference, '+monthnames[m-1], fontsize=fontsize, labelpad=2)\n",
    "    cbar.ax.tick_params(labelsize=fontsize)"
   ]
  },
  {
   "cell_type": "markdown",
   "id": "fd3e2d68-138a-4e6b-b90e-82c9107729c1",
   "metadata": {},
   "source": [
    "## Maps compared to obs _- not used in paper_"
   ]
  },
  {
   "cell_type": "markdown",
   "id": "302978a0-a357-473a-9e0d-f11f1957962c",
   "metadata": {},
   "source": [
    "### Regridders\n",
    "based on https://nbviewer.org/github/aekiss/ice_analysis/blob/main/ice_maps.ipynb#Regridders\n",
    "\n",
    "see https://cosima-recipes.readthedocs.io/en/latest/documented_examples/Regridding.html and https://xesmf.readthedocs.io"
   ]
  },
  {
   "cell_type": "code",
   "execution_count": null,
   "id": "524108b2-d4e8-4cf2-b61e-d5b26bd7efbf",
   "metadata": {},
   "outputs": [],
   "source": [
    "def G02202_obs_regridder(grid_in, grid_out, method='bilinear', **kwargs):\n",
    "    '''Return a function that takes one dataarray argument on grid_in and returns that dataarray regridded onto grid_out.\n",
    "    \n",
    "    grid_in -- path to a NSIDC G02202 NetCDF grid file\n",
    "    grid_out -- path to a MOM grid file (tracer points are used)\n",
    "    '''\n",
    "    weightfn = '_'.join(['regrid', 'weights', os.path.splitext(os.path.basename(grid_in))[0],\n",
    "                         'to', os.path.splitext(os.path.basename(grid_out))[0], method])+'.nc'\n",
    "    ds_in = xr.open_dataset(grid_in)\\\n",
    "             .rename({'xgrid': 'x', 'ygrid': 'y',\n",
    "                     'longitude': 'lon', 'latitude': 'lat'})\n",
    "    try: # for /g/data/ik11/grids/ocean_grid_10.nc and /g/data/ik11/grids/ocean_grid_025.nc\n",
    "        ds_out = xr.open_dataset(grid_out).rename({'xt_ocean': 'x', 'yt_ocean': 'y', 'geolon_t': 'lon', 'geolat_t': 'lat'})\n",
    "    except ValueError: # for /g/data/ik11/grids/ocean_grid_01.nc - see https://github.com/COSIMA/access-om2/issues/236\n",
    "        ds_out = xr.open_dataset(grid_out).rename({'grid_x_T': 'x', 'grid_y_T': 'y', 'geolon_t': 'lon', 'geolat_t': 'lat'})\n",
    "        ds_out_fix = xr.open_dataset('/g/data/ik11/outputs/access-om2-01/01deg_jra55v140_iaf_cycle3/output488/ocean/ocean-3d-temp-1-daily-mean-ym_1958_01.nc')\\\n",
    "                    .rename({'xt_ocean': 'x', 'yt_ocean': 'y'})\n",
    "        ds_out = ds_out.assign_coords({'x': ds_out_fix['x'], 'y': ds_out_fix['y']})\n",
    "\n",
    "    # make regridder\n",
    "    rg = xesmf.Regridder(ds_in, ds_out, method=method, reuse_weights=os.path.exists(weightfn), filename=weightfn, **kwargs)\n",
    "\n",
    "    def outf(da): # define regridding function to output\n",
    "        outds = rg(da)\n",
    "        outds.coords['x'] = ds_out['x']\n",
    "        outds.coords['y'] = ds_out['y']\n",
    "        try:\n",
    "            return outds.rename({'x': 'xt_ocean', 'y': 'yt_ocean', 'lon': 'longitude', 'lat': 'latitude'})\n",
    "        except ValueError:\n",
    "            return outds.rename({'x': 'xt_ocean', 'y': 'yt_ocean'})\n",
    "    return outf"
   ]
  },
  {
   "cell_type": "code",
   "execution_count": null,
   "id": "c294e464-19ca-49fd-9ae5-4a522c0182f2",
   "metadata": {},
   "outputs": [],
   "source": [
    "obsfile_SH = '/g/data3/hh5/tmp/cosima/observations/NOAA/G02202_V3/south/monthly/seaice_conc_monthly_sh_f08_198708_v03r01.nc'\n",
    "regrid_SHobs_to_01 = G02202_obs_regridder(obsfile_SH, '/g/data/ik11/grids/ocean_grid_01.nc')"
   ]
  },
  {
   "cell_type": "markdown",
   "id": "2ab314ec-8cc2-4dd6-9349-b1eda5d522ba",
   "metadata": {},
   "source": [
    "### Load observed sea ice concentration\n",
    "based on https://nbviewer.org/github/aekiss/ice_analysis/blob/main/ice_maps.ipynb"
   ]
  },
  {
   "cell_type": "code",
   "execution_count": null,
   "id": "23585207-6080-46ee-8aeb-c92bc21f52f1",
   "metadata": {},
   "outputs": [],
   "source": [
    "def get_sic_obs(pattern, path='/g/data3/hh5/tmp/cosima/observations/NOAA/G02202_V3', # from http://nsidc.org/data/G02202\n",
    "                variable='goddard_merged_seaice_conc_monthly', timerange=obstimerange): \n",
    "    '''\n",
    "    Return a dataarray from the nc files in path/pattern.\n",
    "    '''\n",
    "    dataarrays = []\n",
    "    files = glob.glob(os.path.join(path, pattern))\n",
    "    for f in tqdm_notebook(files, leave=False, desc='opening files'):\n",
    "        dataarrays.append(xr.open_dataset(f, decode_times=False)[variable])\n",
    "    dataarray = xr.concat(dataarrays, dim='time', coords='all')\n",
    "    if 'time' in dataarray.coords:\n",
    "        time_units = dataarray.time.units\n",
    "        decoded_time = xr.conventions.times.decode_cf_datetime(dataarray.time, time_units)\n",
    "        dataarray.coords['time'] = ('time', decoded_time,\n",
    "                                    {'long_name': 'time', 'decoded_using': time_units })\n",
    "\n",
    "    # replace values outside valid range with nan\n",
    "    dataarray = dataarray.where(np.logical_and(dataarray>=0, dataarray<=1)) #, np.nan)\n",
    "    \n",
    "    # use the same coord names as access-om2 t grid\n",
    "    dataarray = dataarray.rename(({'xgrid': 'xt_ocean', 'ygrid': 'yt_ocean'}))\n",
    "    \n",
    "    # sort by time and select timerange\n",
    "    dataarray = dataarray.sortby('time').sel(time=obstimerange)\n",
    "\n",
    "    return dataarray"
   ]
  },
  {
   "cell_type": "code",
   "execution_count": null,
   "id": "273248f3-d5cc-46fd-adbe-7c73c51271fa",
   "metadata": {},
   "outputs": [],
   "source": [
    "def obs_mm(obs, groupby='time.month'):\n",
    "    cobs = obs.groupby(groupby).mean('time', skipna=True)\n",
    "    cobs = cobs.assign_coords({'latitude': obs.latitude.isel(time=0),\n",
    "                              'longitude': obs.longitude.isel(time=0)})\n",
    "    return cobs"
   ]
  },
  {
   "cell_type": "code",
   "execution_count": null,
   "id": "72ba1207-c963-47b2-b550-3cc670056db1",
   "metadata": {},
   "outputs": [],
   "source": [
    "obs_SH = get_sic_obs('south/monthly/*.nc', timerange=obstimerange)"
   ]
  },
  {
   "cell_type": "code",
   "execution_count": null,
   "id": "8d4718a6-bf9c-4b2c-b334-c27add4fb13a",
   "metadata": {},
   "outputs": [],
   "source": [
    "obs_SH_mm = obs_mm(obs_SH)  # monthly climatologies\n",
    "obs_SH_avet = obs_SH.mean('time', skipna=True)  # mean for all data"
   ]
  },
  {
   "cell_type": "code",
   "execution_count": null,
   "id": "49771389-b7c9-4c5d-9b6b-295c336174e7",
   "metadata": {},
   "outputs": [],
   "source": [
    "obs_SH_mm_regrid = regrid_SHobs_to_01(obs_SH_mm)\n",
    "obs_SH_avet_regrid = regrid_SHobs_to_01(obs_SH_avet)"
   ]
  },
  {
   "cell_type": "markdown",
   "id": "752dd276-9e55-44a1-afc3-5b8e8b1cf072",
   "metadata": {},
   "source": [
    "### plot SIC and SIC bias relative to obs (average over all months)"
   ]
  },
  {
   "cell_type": "code",
   "execution_count": null,
   "id": "259cfff3-a9f3-45e6-8734-4aa99624da6e",
   "metadata": {},
   "outputs": [],
   "source": [
    "ax4 = { k: d for k,d in zip(runs, [[0.0, 0.5, 0.45, 1], [0.46, 0.5, 0.45, 1], [0.0, 0.0, 0.45, 1], [0.46, 0.0, 0.45, 1]])}"
   ]
  },
  {
   "cell_type": "code",
   "execution_count": null,
   "id": "f5f29836-677e-4ca7-b815-e40c5eb70af6",
   "metadata": {
    "tags": []
   },
   "outputs": [],
   "source": [
    "# Time-mean SIC\n",
    "\n",
    "# TODO: need 5 panels here! need to include control....\n",
    "\n",
    "fig  = plt.figure(1, figsize = (20, 20))\n",
    "norm = col.Normalize(vmin=0, vmax=1)\n",
    "\n",
    "ax = fig.add_axes(ax4['Control'],projection=ccrs.SouthPolarStereo())\n",
    "cf = plotmap(obs_SH_avet_regrid, 'Obs (NOAA/NSIDC G02202v3, 1 May 1990 - 30 April 1991)', cmap=cmocean.ice)\n",
    "\n",
    "for k in perturbations:\n",
    "    ax = fig.add_axes(ax4[k], projection=ccrs.SouthPolarStereo())\n",
    "    cf = plotmap(aice_avet[k], f'{k} ({yearrange})', cmap=cmocean.ice)\n",
    "\n",
    "# colorbar:\n",
    "cbaxes = fig.add_axes([0.93, 0.5, 0.012, 0.5])\n",
    "cbar = plt.colorbar(cf, cax = cbaxes, orientation = 'vertical',extend = 'both')\n",
    "cbar.set_label(r'Sea ice concentration', fontsize=fontsize, labelpad=2)\n",
    "cbar.ax.tick_params(labelsize=fontsize)"
   ]
  },
  {
   "cell_type": "code",
   "execution_count": null,
   "id": "6a83cbc3-263c-4d13-b6ed-17fb32bad947",
   "metadata": {
    "tags": []
   },
   "outputs": [],
   "source": [
    "# Time-mean SIC biases\n",
    "\n",
    "scale_max = 0.2\n",
    "\n",
    "fig  = plt.figure(1, figsize = (20, 20))\n",
    "norm = col.Normalize(vmin=-scale_max, vmax=scale_max)\n",
    "\n",
    "for k in runs:\n",
    "    ax = fig.add_axes(ax4[k], projection=ccrs.SouthPolarStereo())\n",
    "    cf = plotmap(aice_avet[k] - obs_SH_avet_regrid, f'{k} ({yearrange}) - obs (1 May 1990 - 30 April 1991)')\n",
    "\n",
    "# colorbar:\n",
    "cbaxes = fig.add_axes([0.93, 0.5, 0.012, 0.5])\n",
    "cbar = plt.colorbar(cf, cax = cbaxes, orientation = 'vertical',extend = 'both')\n",
    "cbar.set_label(r'Sea ice concentration bias', fontsize=fontsize, labelpad=2)\n",
    "cbar.ax.tick_params(labelsize=fontsize)"
   ]
  },
  {
   "cell_type": "markdown",
   "id": "7e16426f-958f-4b7f-98d1-898656f2fd46",
   "metadata": {},
   "source": [
    "### plot SIC and SIC bias relative to obs (climatology over one month)"
   ]
  },
  {
   "cell_type": "code",
   "execution_count": null,
   "id": "95e35279-6262-4e18-9bad-090ae91994de",
   "metadata": {
    "tags": []
   },
   "outputs": [],
   "source": [
    "# Monthly SIC climatology\n",
    "\n",
    "# TODO: need 5 panels here! need to include control....\n",
    "\n",
    "for m in months:    \n",
    "\n",
    "    fig  = plt.figure(figsize = (20, 20))\n",
    "    norm = col.Normalize(vmin=0, vmax=1)\n",
    "    \n",
    "    ax = fig.add_axes(ax4['Control'],projection=ccrs.SouthPolarStereo())\n",
    "    cf = plotmap(obs_SH_mm_regrid.sel(month=m), 'Obs (NOAA/NSIDC G02202v3, 1 May 1990 - 30 April 1991)', cmap=cmocean.ice)\n",
    "    \n",
    "    for k in perturbations:\n",
    "        ax = fig.add_axes(ax4[k], projection=ccrs.SouthPolarStereo())\n",
    "        cf = plotmap(aice_mm[k].sel(month=m), f'{k} ({yearrange})', cmap=cmocean.ice)\n",
    "    \n",
    "    # colorbar:\n",
    "    cbaxes = fig.add_axes([0.93, 0.5, 0.012, 0.5])\n",
    "    cbar = plt.colorbar(cf, cax = cbaxes, orientation = 'vertical')\n",
    "    cbar.set_label(r'Sea ice concentration, '+monthnames[m-1], fontsize=fontsize, labelpad=2)\n",
    "    cbar.ax.tick_params(labelsize=fontsize)"
   ]
  },
  {
   "cell_type": "code",
   "execution_count": null,
   "id": "aa19db35-838a-4309-bd6a-16159f6f3431",
   "metadata": {
    "tags": []
   },
   "outputs": [],
   "source": [
    "# Monthly SIC climatology biases\n",
    "\n",
    "scale_max = 1\n",
    "\n",
    "for m in months:    \n",
    "\n",
    "    fig  = plt.figure(figsize = (20, 20))\n",
    "    norm = col.Normalize(vmin=-scale_max, vmax=scale_max)\n",
    "\n",
    "    obs = obs_SH_mm_regrid.sel(month=m).load()\n",
    "    for k in runs:\n",
    "        ax = fig.add_axes(ax4[k], projection=ccrs.SouthPolarStereo())\n",
    "        cf = plotmap(aice_mm[k].sel(month=m) - obs, f'{k} ({yearrange}) - obs (1 May 1990 - 30 April 1991)')\n",
    "    \n",
    "    # colorbar:\n",
    "    cbaxes = fig.add_axes([0.93, 0.5, 0.012, 0.5])\n",
    "    cbar = plt.colorbar(cf, cax = cbaxes, orientation = 'vertical')\n",
    "    cbar.set_label(r'Sea ice concentration bias, '+monthnames[m-1], fontsize=fontsize, labelpad=2)\n",
    "    cbar.ax.tick_params(labelsize=fontsize)"
   ]
  },
  {
   "cell_type": "markdown",
   "id": "0726c836-e6ca-4f99-bd6c-cad51ebbc828",
   "metadata": {
    "jp-MarkdownHeadingCollapsed": true
   },
   "source": [
    "### SSS restoring (`sfc_salt_flux_restore`)"
   ]
  },
  {
   "cell_type": "code",
   "execution_count": null,
   "id": "8c2d015a-7335-460b-b46b-3b1b271b5d82",
   "metadata": {
    "tags": []
   },
   "outputs": [],
   "source": [
    "# Monthly sfc_salt_flux_restore climatology\n",
    "\n",
    "scale_max = 1e-6\n",
    "\n",
    "for m in months:\n",
    "\n",
    "    fig  = plt.figure(figsize = (20, 20))\n",
    "    norm = col.Normalize(vmin=-scale_max, vmax=scale_max)\n",
    "    \n",
    "    for k in runs:\n",
    "        ax = fig.add_axes(ax4[k], projection=ccrs.SouthPolarStereo())\n",
    "        cf = plotmap(sfc_salt_flux_restore_mm[k].sel(month=m), f'{k} ({yearrange})')\n",
    "    \n",
    "    # colorbar:\n",
    "    cbaxes = fig.add_axes([0.93, 0.5, 0.012, 0.5])\n",
    "    cbar = plt.colorbar(cf, cax = cbaxes, orientation = 'vertical')\n",
    "    cbar.set_label(r'Surface salt flux from SSS restoring [kg/m^2/s], '+monthnames[m-1], fontsize=fontsize, labelpad=2)\n",
    "    cbar.ax.tick_params(labelsize=fontsize)"
   ]
  },
  {
   "cell_type": "code",
   "execution_count": null,
   "id": "99c73326-62e7-4782-b738-ca323ed96493",
   "metadata": {
    "tags": []
   },
   "outputs": [],
   "source": [
    "# Monthly sfc_salt_flux_restore climatology in Control\n",
    "\n",
    "scale_max = 1e-6\n",
    "fig  = plt.figure(figsize = (20, 20))\n",
    "norm = col.Normalize(vmin=-scale_max, vmax=scale_max)\n",
    "\n",
    "for i, m in enumerate([2, 5, 9, 12]):   \n",
    "    for k in ['Control']:\n",
    "        ax = fig.add_axes([ ax4[k] for k in runs ][i], projection=ccrs.SouthPolarStereo())\n",
    "        cf = plotmap(sfc_salt_flux_restore_mm[k].sel(month=m), f'{k} ({yearrange}), {monthnames[m-1]}')\n",
    "\n",
    "# colorbar:\n",
    "cbaxes = fig.add_axes([0.93, 0.5, 0.012, 0.5])\n",
    "cbar = plt.colorbar(cf, cax = cbaxes, orientation = 'vertical')\n",
    "cbar.set_label(r'Surface salt flux from SSS restoring [kg/m^2/s]', fontsize=fontsize, labelpad=2)\n",
    "cbar.ax.tick_params(labelsize=fontsize)"
   ]
  },
  {
   "cell_type": "markdown",
   "id": "00eb61c3-06f9-4297-be93-62380bf88ab1",
   "metadata": {},
   "source": [
    "## RMSE of SIC relative to obs - **USED IN PAPER**\n",
    "- use `.sel(yt_ocean=slice(-80,-50))` because ice extends beyond `lat_slice`\n",
    "- also confine to shelf?\n",
    "- weight by `area_t`\n",
    "- also quote figures on total ice area and extent?"
   ]
  },
  {
   "cell_type": "code",
   "execution_count": null,
   "id": "8803e1f9-037c-4504-839b-b052aab77b13",
   "metadata": {},
   "outputs": [],
   "source": [
    "obs_area = (obs_SH_mm_regrid*area_t).sel(yt_ocean=slice(-80,-50)).sum('xt_ocean').sum('yt_ocean')"
   ]
  },
  {
   "cell_type": "code",
   "execution_count": null,
   "id": "f50702f2-3863-4a88-b220-7d5b7d74dea0",
   "metadata": {},
   "outputs": [],
   "source": [
    "areai_mm_sum = { k: d.sel(yt_ocean=slice(-80,-50)).sum('xt_ocean').sum('yt_ocean') for k, d in areai_mm.items() }"
   ]
  },
  {
   "cell_type": "code",
   "execution_count": null,
   "id": "28576b4e-b4d7-4e27-b31d-a13231b856e8",
   "metadata": {},
   "outputs": [],
   "source": [
    "area_error = { k: ((d-obs_SH_mm_regrid)*area_t).sel(yt_ocean=slice(-80,-50)) for k, d in aice_all_timeslice_mm.items() }"
   ]
  },
  {
   "cell_type": "raw",
   "id": "b8de1f62-0089-4db4-a625-8843ba775411",
   "metadata": {},
   "source": [
    "area_rmse = { k: np.sqrt((d**2).sum('xt_ocean').sum('yt_ocean')) for k, d in area_error.items() }"
   ]
  },
  {
   "cell_type": "code",
   "execution_count": null,
   "id": "7e3062af-a38b-457b-af3d-5f267f1a0897",
   "metadata": {},
   "outputs": [],
   "source": [
    "area_abserror = { k: np.abs(d).sum('xt_ocean').sum('yt_ocean') for k, d in area_error.items() }"
   ]
  },
  {
   "cell_type": "code",
   "execution_count": null,
   "id": "d68aa634-917b-454b-bf5c-00d870d2b4cd",
   "metadata": {},
   "outputs": [],
   "source": [
    "fig  = plt.figure(1, figsize = (25,5))\n",
    "ax = fig.add_axes([0.0, 0.0, 0.3, 1])\n",
    "\n",
    "ax.plot(obs_area/1e12, label='Obs (NOAA G02135, 1 May 1990 - 30 April 1991)', **styles['Obs'])\n",
    "for k, d in areai_mm_sum.items():\n",
    "    ax.plot(d/1e6, label=f'{k} (monthly {yearrange} climatology)', **styles[k])\n",
    "#ax.plot(obs2,lw=2,color='r',label=\"Obs - EUMETSAT\")\n",
    "plt.ylabel(\"Area (million km$^2$)\")\n",
    "#plt.xlabel(\"Months\")\n",
    "ax.set_xticks(range(12), monthnames)\n",
    "plt.legend()\n",
    "plt.ylim(ymin=0,ymax=20)\n",
    "plt.title(\"Antarctic sea ice area\")"
   ]
  },
  {
   "cell_type": "code",
   "execution_count": null,
   "id": "c2b4850b-ffa8-4704-b5c4-1271e175ca77",
   "metadata": {},
   "outputs": [],
   "source": [
    "fig  = plt.figure(1, figsize = (25,5))\n",
    "ax = fig.add_axes([0.0, 0.0, 0.3, 1])\n",
    "\n",
    "# plt.subplot(311)\n",
    "plt.title('Monthly Antarctic sea ice area absolute error relative to Obs (NOAA G02135, 1 May 1990 - 30 April 1991)', loc='left')\n",
    "for k, d in area_abserror.items():\n",
    "    ax.plot(d/1e12, label=f'{k} (monthly {yearrange} climatology)', **styles[k])\n",
    "plt.legend()\n",
    "ax.set_xticks(range(12), monthnames)\n",
    "plt.ylabel('Sea ice area abs error (million km$^2$)')\n",
    "plt.ylim(ymin=0,ymax=None)"
   ]
  },
  {
   "cell_type": "code",
   "execution_count": null,
   "id": "3b7916fc-02c4-464c-a9b8-64553f3c1d9d",
   "metadata": {},
   "outputs": [],
   "source": [
    "{ k: (d-area_abserror['Control']).values/1e12 for k, d in area_abserror.items() }"
   ]
  },
  {
   "cell_type": "code",
   "execution_count": null,
   "id": "0773a3d9-f72d-4e9a-bf18-baf1400d75ca",
   "metadata": {},
   "outputs": [],
   "source": [
    "{ k: d[8].values/1e12 for k, d in area_abserror.items() } # 8=Sept"
   ]
  },
  {
   "cell_type": "code",
   "execution_count": null,
   "id": "78cbccab-c0c4-4524-a583-7c13408bd2cb",
   "metadata": {},
   "outputs": [],
   "source": [
    "(1.878016131072-2.074666074112)/2.074666074112 # relative improvement for Basal_LH_Brine in Sept"
   ]
  },
  {
   "cell_type": "code",
   "execution_count": null,
   "id": "664881d9-5373-41d8-ac1f-078d6cc15d06",
   "metadata": {
    "tags": []
   },
   "outputs": [],
   "source": [
    "# Monthly SIA biases\n",
    "\n",
    "scale_max = 3e7\n",
    "\n",
    "for m in months:    \n",
    "\n",
    "    fig  = plt.figure(figsize = (20, 20))\n",
    "    norm = col.Normalize(vmin=-scale_max, vmax=scale_max)\n",
    "\n",
    "    for k in runs:\n",
    "        ax = fig.add_axes(ax4[k], projection=ccrs.SouthPolarStereo())\n",
    "        cf = plotmap(area_error[k].sel(month=m), f'{k} ({yearrange}) - obs (1 May 1990 - 30 April 1991)')\n",
    "    \n",
    "    # colorbar:\n",
    "    cbaxes = fig.add_axes([0.93, 0.5, 0.012, 0.5])\n",
    "    cbar = plt.colorbar(cf, cax = cbaxes, orientation = 'vertical')\n",
    "    cbar.set_label(r'Sea ice area bias, '+monthnames[m-1], fontsize=fontsize, labelpad=2)\n",
    "    cbar.ax.tick_params(labelsize=fontsize)"
   ]
  },
  {
   "cell_type": "code",
   "execution_count": null,
   "id": "04ce1428-d79c-4380-9d1f-1f87c3fb0962",
   "metadata": {},
   "outputs": [],
   "source": []
  }
 ],
 "metadata": {
  "kernelspec": {
   "display_name": "Python [conda env:analysis3-24.04] *",
   "language": "python",
   "name": "conda-env-analysis3-24.04-py"
  },
  "language_info": {
   "codemirror_mode": {
    "name": "ipython",
    "version": 3
   },
   "file_extension": ".py",
   "mimetype": "text/x-python",
   "name": "python",
   "nbconvert_exporter": "python",
   "pygments_lexer": "ipython3",
   "version": "3.10.14"
  }
 },
 "nbformat": 4,
 "nbformat_minor": 5
}
